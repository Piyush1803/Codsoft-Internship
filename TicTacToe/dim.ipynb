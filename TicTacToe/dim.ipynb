{
 "cells": [
  {
   "cell_type": "code",
   "execution_count": 6,
   "id": "b0929627",
   "metadata": {},
   "outputs": [],
   "source": [
    "width = 500\n",
    "height = 500\n",
    "rows = 3\n",
    "cols = 3\n",
    "SQSIZE = width// cols\n",
    "lineWidth = 15\n",
    "circWidth = 15\n",
    "crossWidth = 20\n",
    "RADIUS = SQSIZE // 4\n",
    "OFFSET = 50\n",
    "bgColor = (0,0,0)\n",
    "lineColor = (127, 127, 127)\n",
    "circColor = (239, 231, 200)\n",
    "crossColor = (66, 66, 66)"
   ]
  }
 ],
 "metadata": {
  "kernelspec": {
   "display_name": "Python 3 (ipykernel)",
   "language": "python",
   "name": "python3"
  },
  "language_info": {
   "codemirror_mode": {
    "name": "ipython",
    "version": 3
   },
   "file_extension": ".py",
   "mimetype": "text/x-python",
   "name": "python",
   "nbconvert_exporter": "python",
   "pygments_lexer": "ipython3",
   "version": "3.11.4"
  }
 },
 "nbformat": 4,
 "nbformat_minor": 5
}
